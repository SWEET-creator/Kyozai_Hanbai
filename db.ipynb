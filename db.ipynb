{
 "cells": [
  {
   "cell_type": "code",
   "execution_count": 8,
   "metadata": {},
   "outputs": [
    {
     "name": "stdout",
     "output_type": "stream",
     "text": [
      "2023-10-04 13:18:34,528 INFO sqlalchemy.engine.Engine BEGIN (implicit)\n",
      "2023-10-04 13:18:34,540 INFO sqlalchemy.engine.Engine PRAGMA main.table_info(\"products\")\n",
      "2023-10-04 13:18:34,541 INFO sqlalchemy.engine.Engine [raw sql] ()\n",
      "2023-10-04 13:18:34,542 INFO sqlalchemy.engine.Engine COMMIT\n"
     ]
    }
   ],
   "source": [
    "from sqlalchemy import create_engine\n",
    "from models import Base, Product\n",
    "\n",
    "DATABASE_URL = \"sqlite:///products.db\"\n",
    "\n",
    "engine = create_engine(DATABASE_URL, echo=True)\n",
    "Base.metadata.create_all(bind=engine)"
   ]
  },
  {
   "cell_type": "code",
   "execution_count": null,
   "metadata": {},
   "outputs": [],
   "source": [
    "from sqlalchemy import create_engine, Column, Integer, String, Float\n",
    "from sqlalchemy.ext.declarative import declarative_base\n",
    "\n",
    "Base = declarative_base()\n",
    "\n",
    "class Product(Base):\n",
    "    __tablename__ = 'products'\n",
    "\n",
    "    id = Column(Integer, primary_key=True)\n",
    "    name = Column(String)\n",
    "    price = Column(Float)\n",
    "    image_path = Column(String)\n"
   ]
  },
  {
   "cell_type": "code",
   "execution_count": 9,
   "metadata": {},
   "outputs": [
    {
     "data": {
      "text/plain": [
       "dict_keys(['products'])"
      ]
     },
     "execution_count": 9,
     "metadata": {},
     "output_type": "execute_result"
    }
   ],
   "source": [
    "from sqlalchemy import create_engine, MetaData\n",
    "\n",
    "# データベースへの接続\n",
    "DATABASE_URL = \"sqlite:///products.db\"  # 適切なデータベースのURLを指定してください\n",
    "engine = create_engine(DATABASE_URL)\n",
    "\n",
    "# メタデータの取得\n",
    "metadata = MetaData()\n",
    "metadata.reflect(bind=engine)\n",
    "\n",
    "# テーブルのリストを取得\n",
    "tables = metadata.tables.keys()\n",
    "\n",
    "tables"
   ]
  },
  {
   "cell_type": "code",
   "execution_count": 15,
   "metadata": {},
   "outputs": [
    {
     "name": "stdout",
     "output_type": "stream",
     "text": [
      "2023-10-04 13:20:32,507 INFO sqlalchemy.engine.Engine SELECT products.id, products.name, products.price, products.image_path \n",
      "FROM products\n",
      "2023-10-04 13:20:32,508 INFO sqlalchemy.engine.Engine [generated in 0.00094s] ()\n"
     ]
    },
    {
     "data": {
      "text/plain": [
       "[(1, '教材1', 1000.0, 'kyozai1.jpg')]"
      ]
     },
     "execution_count": 15,
     "metadata": {},
     "output_type": "execute_result"
    }
   ],
   "source": [
    "from sqlalchemy import Table\n",
    "table_name = \"products\"  # 確認したいテーブル名を指定します\n",
    "\n",
    "# テーブルオブジェクトを取得\n",
    "table = Table(table_name, metadata, autoload=True, autoload_with=engine)\n",
    "\n",
    "# テーブルの内容を取得\n",
    "results = engine.execute(table.select()).fetchall()\n",
    "\n",
    "results"
   ]
  },
  {
   "cell_type": "code",
   "execution_count": 12,
   "metadata": {},
   "outputs": [],
   "source": [
    "from sqlalchemy.orm import sessionmaker\n",
    "SessionLocal = sessionmaker(bind=engine)\n",
    "def delete_product_by_id(product_id):\n",
    "    session = SessionLocal()\n",
    "    try:\n",
    "        product = session.query(Product).filter_by(id=product_id).first()\n",
    "        if product:\n",
    "            session.delete(product)\n",
    "            session.commit()\n",
    "        else:\n",
    "            print(\"Product not found!\")\n",
    "    except Exception as e:\n",
    "        print(f\"Error: {e}\")\n",
    "        session.rollback()\n",
    "    finally:\n",
    "        session.close()\n",
    "\n",
    "# 使用例\n",
    "delete_product_by_id(1)"
   ]
  },
  {
   "cell_type": "code",
   "execution_count": 17,
   "metadata": {},
   "outputs": [
    {
     "name": "stdout",
     "output_type": "stream",
     "text": [
      "2023-10-04 13:21:04,085 INFO sqlalchemy.engine.Engine BEGIN (implicit)\n",
      "2023-10-04 13:21:04,087 INFO sqlalchemy.engine.Engine INSERT INTO products (name, price, image_path) VALUES (?, ?, ?)\n",
      "2023-10-04 13:21:04,088 INFO sqlalchemy.engine.Engine [generated in 0.00067s] ('教材3', 1700.0, 'kyozai3.jpg')\n",
      "2023-10-04 13:21:04,090 INFO sqlalchemy.engine.Engine COMMIT\n",
      "2023-10-04 13:21:04,197 INFO sqlalchemy.engine.Engine BEGIN (implicit)\n",
      "2023-10-04 13:21:04,198 INFO sqlalchemy.engine.Engine SELECT products.id AS products_id, products.name AS products_name, products.price AS products_price, products.image_path AS products_image_path \n",
      "FROM products\n",
      "2023-10-04 13:21:04,199 INFO sqlalchemy.engine.Engine [generated in 0.00086s] ()\n",
      "1 教材1 1000.0 kyozai1.jpg\n",
      "2 教材2 1500.0 kyozai2.jpg\n",
      "3 教材3 1700.0 kyozai3.jpg\n",
      "2023-10-04 13:21:04,201 INFO sqlalchemy.engine.Engine ROLLBACK\n"
     ]
    }
   ],
   "source": [
    "from sqlalchemy import create_engine\n",
    "from sqlalchemy.orm import sessionmaker\n",
    "from models import Product\n",
    "\n",
    "DATABASE_URL = \"sqlite:///products.db\"\n",
    "\n",
    "engine = create_engine(DATABASE_URL, echo=True)\n",
    "Session = sessionmaker(bind=engine)\n",
    "\n",
    "# 新しい商品を追加\n",
    "session = Session()\n",
    "new_product = Product(name=\"教材3\", price=1700.0, image_path=\"kyozai3.jpg\")\n",
    "session.add(new_product)\n",
    "session.commit()\n",
    "\n",
    "# 全商品の取得\n",
    "products = session.query(Product).all()\n",
    "for product in products:\n",
    "    print(product.id, product.name, product.price, product.image_path)\n",
    "\n",
    "session.close()"
   ]
  }
 ],
 "metadata": {
  "kernelspec": {
   "display_name": "base",
   "language": "python",
   "name": "python3"
  },
  "language_info": {
   "codemirror_mode": {
    "name": "ipython",
    "version": 3
   },
   "file_extension": ".py",
   "mimetype": "text/x-python",
   "name": "python",
   "nbconvert_exporter": "python",
   "pygments_lexer": "ipython3",
   "version": "3.10.9"
  },
  "orig_nbformat": 4
 },
 "nbformat": 4,
 "nbformat_minor": 2
}
